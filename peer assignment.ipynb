{
 "cells": [
  {
   "cell_type": "markdown",
   "id": "27b54473-f7b0-447c-8218-2ad07d48e5c1",
   "metadata": {},
   "source": [
    "# My Jupyter Notebook on IBM Watson Studio"
   ]
  },
  {
   "cell_type": "markdown",
   "id": "2b3e9dcb-3ac9-44a9-9756-b261cea37e2f",
   "metadata": {},
   "source": [
    "**Lizi (Shasha) Fu** <br>\n",
    "I am currently a student majoring in Computer Science."
   ]
  },
  {
   "cell_type": "markdown",
   "id": "e60f1c34-c483-4cf2-80ea-67a8d60d5992",
   "metadata": {},
   "source": [
    "*I am interested in data science because data science is very useful to resolve data problems in so many fields. Compared with traditional method, data science is a new technology combining machine learning and statistics, which has high efficiency.* "
   ]
  },
  {
   "cell_type": "markdown",
   "id": "db703e6d-10a1-44b9-80b6-aedab0ae6139",
   "metadata": {},
   "source": [
    "### print hello world in python"
   ]
  },
  {
   "cell_type": "code",
   "execution_count": 2,
   "id": "4d001ae5-2874-4061-aec6-d780d2b995d1",
   "metadata": {},
   "outputs": [
    {
     "name": "stdout",
     "output_type": "stream",
     "text": [
      "hello world\n"
     ]
    }
   ],
   "source": [
    "print(\"hello world\")"
   ]
  },
  {
   "cell_type": "markdown",
   "id": "0e441648-a373-416b-9133-2aa8e0c784f9",
   "metadata": {},
   "source": [
    "1. task 1 - bulleted list\n",
    "     - hello\n",
    "     - hi\n",
    "     - hey\n",
    "2. task 2 - blocked quote\n",
    "     ```\n",
    "     practice makes perfect\n",
    "     ```\n",
    "3. task 3 - table\n",
    "    |col1|col2|\n",
    "    |------|------|\n",
    "    |Feb8|Feb9|\n",
    "4. task 4 - numbered list<br>\n",
    "    look at above 1-4.\n",
    "5. task 5 - link<br>\n",
    "    [Markdown Cheatsheet](https://github.com/adam-p/markdown-here/wiki/Markdown-Cheatsheet)"
   ]
  }
 ],
 "metadata": {
  "kernelspec": {
   "display_name": "Python",
   "language": "python",
   "name": "conda-env-python-py"
  },
  "language_info": {
   "codemirror_mode": {
    "name": "ipython",
    "version": 3
   },
   "file_extension": ".py",
   "mimetype": "text/x-python",
   "name": "python",
   "nbconvert_exporter": "python",
   "pygments_lexer": "ipython3",
   "version": "3.7.12"
  }
 },
 "nbformat": 4,
 "nbformat_minor": 5
}
